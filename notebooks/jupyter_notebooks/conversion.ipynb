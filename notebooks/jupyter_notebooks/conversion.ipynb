{
 "cells": [
  {
   "cell_type": "code",
   "execution_count": 1,
   "metadata": {},
   "outputs": [],
   "source": [
    "import sys\n",
    "from pathlib import Path\n",
    "import numpy as np\n",
    "import pandas as pd\n",
    "import scipy.sparse"
   ]
  },
  {
   "cell_type": "code",
   "execution_count": 2,
   "metadata": {},
   "outputs": [
    {
     "name": "stdout",
     "output_type": "stream",
     "text": [
      "3.7.0 (default, Jul  2 2018, 15:31:25) \n",
      "[Clang 9.0.0 (clang-900.0.39.2)]\n",
      "numpy version: 1.16.2\n",
      "pandas version: 0.24.1\n",
      "scipy version: 1.2.1\n"
     ]
    }
   ],
   "source": [
    "print(sys.version)\n",
    "print('numpy version:', np.__version__)\n",
    "print('pandas version:', pd.__version__)\n",
    "print('scipy version:', scipy.__version__)"
   ]
  },
  {
   "cell_type": "code",
   "execution_count": 3,
   "metadata": {},
   "outputs": [
    {
     "name": "stdout",
     "output_type": "stream",
     "text": [
      "rpy2: 3.0.1\n"
     ]
    }
   ],
   "source": [
    "import rpy2\n",
    "import rpy2.robjects as robjects\n",
    "print('rpy2:', rpy2.__version__)"
   ]
  },
  {
   "cell_type": "markdown",
   "metadata": {},
   "source": [
    "# Drop-Seq data"
   ]
  },
  {
   "cell_type": "markdown",
   "metadata": {},
   "source": [
    "## Raw matrix"
   ]
  },
  {
   "cell_type": "code",
   "execution_count": 4,
   "metadata": {},
   "outputs": [],
   "source": [
    "matrix_csc_values = robjects.r['readRDS']('../../data/drop-seq/expr_readcount_raw_csc_values.rds')\n",
    "matrix_csc_indices = robjects.r['readRDS']('../../data/drop-seq/expr_readcount_raw_csc_indices.rds')\n",
    "matrix_csc_indptr = robjects.r['readRDS']('../../data/drop-seq/expr_readcount_raw_csc_indptr.rds')\n",
    "matrix_csc_shape = robjects.r['readRDS']('../../data/drop-seq/expr_readcount_raw_csc_shape.rds')"
   ]
  },
  {
   "cell_type": "code",
   "execution_count": 5,
   "metadata": {},
   "outputs": [],
   "source": [
    "expr_readcount_raw = scipy.sparse.csc_matrix((np.asarray(matrix_csc_values, dtype=np.int64), \n",
    "                                              np.asarray(matrix_csc_indices, dtype=np.int64), \n",
    "                                              np.asarray(matrix_csc_indptr, dtype=np.int64)), \n",
    "                                             shape=np.asarray(matrix_csc_shape, dtype=np.int64))"
   ]
  },
  {
   "cell_type": "code",
   "execution_count": 6,
   "metadata": {},
   "outputs": [
    {
     "data": {
      "text/plain": [
       "(27999, 27416)"
      ]
     },
     "execution_count": 6,
     "metadata": {},
     "output_type": "execute_result"
    }
   ],
   "source": [
    "expr_readcount_raw.shape"
   ]
  },
  {
   "cell_type": "code",
   "execution_count": 7,
   "metadata": {},
   "outputs": [],
   "source": [
    "if not Path('../../data/drop-seq/expr_readcount_raw_csc.npz').is_file():\n",
    "    scipy.sparse.save_npz('../../data/drop-seq/expr_readcount_raw_csc.npz', \n",
    "                          expr_readcount_raw, compressed=True)"
   ]
  },
  {
   "cell_type": "code",
   "execution_count": 8,
   "metadata": {},
   "outputs": [],
   "source": [
    "expr_readcount_raw_dimnames = robjects.r['readRDS']('../../data/drop-seq/expr_readcount_raw_csc_dimnames.rds')"
   ]
  },
  {
   "cell_type": "code",
   "execution_count": 9,
   "metadata": {},
   "outputs": [],
   "source": [
    "expr_readcount_raw_dimnames = np.array([np.asarray(expr_readcount_raw_dimnames[0], dtype='U'),\n",
    "                                        np.asarray(expr_readcount_raw_dimnames[1], dtype='U')])"
   ]
  },
  {
   "cell_type": "code",
   "execution_count": 10,
   "metadata": {},
   "outputs": [],
   "source": [
    "if not Path('../../data/drop-seq/expr_readcount_raw_csc_dimnames.npy').is_file():\n",
    "    np.save('../../data/drop-seq/expr_readcount_raw_csc_dimnames.npy', \n",
    "            expr_readcount_raw_dimnames)"
   ]
  },
  {
   "cell_type": "markdown",
   "metadata": {},
   "source": [
    "## Normalized and scaled matrix"
   ]
  },
  {
   "cell_type": "code",
   "execution_count": 11,
   "metadata": {},
   "outputs": [],
   "source": [
    "expr_readcount_norm_log_corrected_scaled = \\\n",
    "    robjects.r['readRDS']('../../data/drop-seq/expr_readcount_norm_log_corrected_scaled.rds')"
   ]
  },
  {
   "cell_type": "code",
   "execution_count": 12,
   "metadata": {},
   "outputs": [],
   "source": [
    "expr_readcount_norm_log_corrected_scaled_dimnames = \\\n",
    "    np.array([np.asarray(robjects.r['rownames'](expr_readcount_norm_log_corrected_scaled), dtype='U'),\n",
    "              np.asarray(robjects.r['colnames'](expr_readcount_norm_log_corrected_scaled), dtype='U')])"
   ]
  },
  {
   "cell_type": "code",
   "execution_count": 13,
   "metadata": {},
   "outputs": [],
   "source": [
    "if not Path('../../data/drop-seq/expr_readcount_norm_log_corrected_scaled_dimnames.npy').is_file():\n",
    "    np.save('../../data/drop-seq/expr_readcount_norm_log_corrected_scaled_dimnames.npy', \n",
    "            expr_readcount_norm_log_corrected_scaled_dimnames)"
   ]
  },
  {
   "cell_type": "code",
   "execution_count": 14,
   "metadata": {},
   "outputs": [],
   "source": [
    "expr_readcount_norm_log_corrected_scaled_dims = robjects.r['dim'](expr_readcount_norm_log_corrected_scaled)"
   ]
  },
  {
   "cell_type": "code",
   "execution_count": 15,
   "metadata": {},
   "outputs": [],
   "source": [
    "expr_readcount_norm_log_corrected_scaled = \\\n",
    "    np.asarray(expr_readcount_norm_log_corrected_scaled).reshape(expr_readcount_norm_log_corrected_scaled_dims[1], \n",
    "                                                                 expr_readcount_norm_log_corrected_scaled_dims[0]).T"
   ]
  },
  {
   "cell_type": "code",
   "execution_count": 16,
   "metadata": {},
   "outputs": [
    {
     "data": {
      "text/plain": [
       "array([[-0.09100748, -0.05435914, -0.08411386, ..., -0.20700135,\n",
       "        -0.31560168, -0.00389515],\n",
       "       [-0.09100748, -0.05435914, -0.08411386, ..., -0.20700135,\n",
       "        -0.31560168, -0.00389515],\n",
       "       [-0.09100748, -0.05435914, -0.08411386, ..., -0.20700135,\n",
       "        -0.31560168, -0.00389515],\n",
       "       ...,\n",
       "       [-0.05435914, -0.08411386, -0.01280428, ..., -0.31560168,\n",
       "        -0.00389515, -0.00407362],\n",
       "       [-0.05435914, -0.08411386, -0.01280428, ..., -0.31560168,\n",
       "        -0.00389515, -0.00407362],\n",
       "       [-0.05435914, -0.08411386, -0.01280428, ...,  3.45034835,\n",
       "        -0.00389515, -0.00407362]])"
      ]
     },
     "execution_count": 16,
     "metadata": {},
     "output_type": "execute_result"
    }
   ],
   "source": [
    "expr_readcount_norm_log_corrected_scaled"
   ]
  },
  {
   "cell_type": "code",
   "execution_count": 17,
   "metadata": {},
   "outputs": [],
   "source": [
    "if not Path('../../data/drop-seq/expr_readcount_norm_log_corrected_scaled.npy').is_file():\n",
    "    np.save('../../data/drop-seq/expr_readcount_norm_log_corrected_scaled.npy', \n",
    "            expr_readcount_norm_log_corrected_scaled)"
   ]
  },
  {
   "cell_type": "markdown",
   "metadata": {},
   "source": [
    "## PCA result"
   ]
  },
  {
   "cell_type": "code",
   "execution_count": 18,
   "metadata": {},
   "outputs": [],
   "source": [
    "pca_out = robjects.r['readRDS']('../../data/drop-seq/pca_out.rds')"
   ]
  },
  {
   "cell_type": "code",
   "execution_count": 19,
   "metadata": {},
   "outputs": [
    {
     "data": {
      "text/html": [
       "\n",
       "        <span>ListVector with 5 elements.</span>\n",
       "        <table>\n",
       "        <tbody>\n",
       "        \n",
       "          <tr>\n",
       "            <th>\n",
       "            sdev\n",
       "            </th>\n",
       "            <td>\n",
       "            <rpy2.rinterface.FloatSexpVector object at 0x1127f9288> [RTYPES.REALSXP]\n",
       "            </td>\n",
       "          </tr>\n",
       "        \n",
       "          <tr>\n",
       "            <th>\n",
       "            rotation\n",
       "            </th>\n",
       "            <td>\n",
       "            <rpy2.rinterface.FloatSexpVector object at 0x11d3bf848> [RTYPES.REALSXP]\n",
       "            </td>\n",
       "          </tr>\n",
       "        \n",
       "          <tr>\n",
       "            <th>\n",
       "            center\n",
       "            </th>\n",
       "            <td>\n",
       "            <rpy2.rinterface.BoolSexpVector object at 0x11d3bf048> [RTYPES.LGLSXP]\n",
       "            </td>\n",
       "          </tr>\n",
       "        \n",
       "          <tr>\n",
       "            <th>\n",
       "            scale\n",
       "            </th>\n",
       "            <td>\n",
       "            <rpy2.rinterface.BoolSexpVector object at 0x11d3bfcc8> [RTYPES.LGLSXP]\n",
       "            </td>\n",
       "          </tr>\n",
       "        \n",
       "          <tr>\n",
       "            <th>\n",
       "            x\n",
       "            </th>\n",
       "            <td>\n",
       "            <rpy2.rinterface.FloatSexpVector object at 0x11d3bf948> [RTYPES.REALSXP]\n",
       "            </td>\n",
       "          </tr>\n",
       "        \n",
       "        </tbody>\n",
       "        </table>\n",
       "        "
      ],
      "text/plain": [
       "R object with classes: ('prcomp',) mapped to:\n",
       "[FloatSe..., FloatSe..., BoolSex..., BoolSex..., FloatSe...]\n",
       "  sdev: <class 'rpy2.rinterface.FloatSexpVector'>\n",
       "  <rpy2.rinterface.FloatSexpVector object at 0x11d2772c8> [RTYPES.REALSXP]\n",
       "  rotation: <class 'rpy2.rinterface.FloatSexpVector'>\n",
       "  <rpy2.rinterface.FloatSexpVector object at 0x11d3bf3c8> [RTYPES.REALSXP]\n",
       "  center: <class 'rpy2.rinterface.BoolSexpVector'>\n",
       "  <rpy2.rinterface.BoolSexpVector object at 0x11d3bf448> [RTYPES.LGLSXP]\n",
       "  scale: <class 'rpy2.rinterface.BoolSexpVector'>\n",
       "  <rpy2.rinterface.BoolSexpVector object at 0x110583948> [RTYPES.LGLSXP]\n",
       "  x: <class 'rpy2.rinterface.FloatSexpVector'>\n",
       "  <rpy2.rinterface.FloatSexpVector object at 0x11d3bf608> [RTYPES.REALSXP]"
      ]
     },
     "execution_count": 19,
     "metadata": {},
     "output_type": "execute_result"
    }
   ],
   "source": [
    "pca_out"
   ]
  },
  {
   "cell_type": "code",
   "execution_count": 20,
   "metadata": {},
   "outputs": [
    {
     "data": {
      "text/html": [
       "\n",
       "        <span>FloatMatrix with 426206160 elements.</span>\n",
       "        <table>\n",
       "        <tbody>\n",
       "          <tr>\n",
       "          \n",
       "            <td>\n",
       "            -23.117708\n",
       "            </td>\n",
       "          \n",
       "            <td>\n",
       "            -13.744099\n",
       "            </td>\n",
       "          \n",
       "            <td>\n",
       "            -20.771961\n",
       "            </td>\n",
       "          \n",
       "            <td>\n",
       "            ...\n",
       "            </td>\n",
       "          \n",
       "            <td>\n",
       "            0.000000\n",
       "            </td>\n",
       "          \n",
       "            <td>\n",
       "            -0.000000\n",
       "            </td>\n",
       "          \n",
       "            <td>\n",
       "            -0.000000\n",
       "            </td>\n",
       "          \n",
       "          </tr>\n",
       "        </tbody>\n",
       "        </table>\n",
       "        "
      ],
      "text/plain": [
       "R object with classes: ('matrix',) mapped to:\n",
       "[-23.117708, -13.744099, -20.771961, 29.861073, ..., -0.000000, 0.000000, -0.000000, -0.000000]"
      ]
     },
     "execution_count": 20,
     "metadata": {},
     "output_type": "execute_result"
    }
   ],
   "source": [
    "pca_out[4]"
   ]
  },
  {
   "cell_type": "code",
   "execution_count": 21,
   "metadata": {},
   "outputs": [],
   "source": [
    "pca_out_x_dims = robjects.r['dim'](pca_out[4])"
   ]
  },
  {
   "cell_type": "code",
   "execution_count": 22,
   "metadata": {},
   "outputs": [],
   "source": [
    "pca_out_x = np.asarray(pca_out[4]).reshape(pca_out_x_dims[1], \n",
    "                                           pca_out_x_dims[0]).T"
   ]
  },
  {
   "cell_type": "code",
   "execution_count": 23,
   "metadata": {},
   "outputs": [],
   "source": [
    "if not Path('../../data/drop-seq/pca_out_x.npy').is_file():\n",
    "    np.save('../../data/drop-seq/pca_out_x.npy', pca_out_x)"
   ]
  },
  {
   "cell_type": "markdown",
   "metadata": {
    "toc-hr-collapsed": false
   },
   "source": [
    "# 10x data"
   ]
  },
  {
   "cell_type": "markdown",
   "metadata": {},
   "source": [
    "## Raw matrix"
   ]
  },
  {
   "cell_type": "code",
   "execution_count": 24,
   "metadata": {},
   "outputs": [],
   "source": [
    "matrix_csc_values = robjects.r['readRDS']('../../data/10x/expr_readcount_raw_csc_values.rds')\n",
    "matrix_csc_indices = robjects.r['c'](robjects.r['readRDS']('../../data/10x/expr_readcount_raw_csc_indices_part1.rds'),\n",
    "                                     robjects.r['readRDS']('../../data/10x/expr_readcount_raw_csc_indices_part2.rds'))\n",
    "matrix_csc_indptr = robjects.r['readRDS']('../../data/10x/expr_readcount_raw_csc_indptr.rds')\n",
    "matrix_csc_shape = robjects.r['readRDS']('../../data/10x/expr_readcount_raw_csc_shape.rds')"
   ]
  },
  {
   "cell_type": "code",
   "execution_count": 25,
   "metadata": {},
   "outputs": [],
   "source": [
    "expr_readcount_raw = scipy.sparse.csc_matrix((np.asarray(matrix_csc_values, dtype=np.int64), \n",
    "                                              np.asarray(matrix_csc_indices, dtype=np.int64), \n",
    "                                              np.asarray(matrix_csc_indptr, dtype=np.int64)), \n",
    "                                             shape=np.asarray(matrix_csc_shape, dtype=np.int64))"
   ]
  },
  {
   "cell_type": "code",
   "execution_count": 26,
   "metadata": {},
   "outputs": [
    {
     "data": {
      "text/plain": [
       "(27999, 34564)"
      ]
     },
     "execution_count": 26,
     "metadata": {},
     "output_type": "execute_result"
    }
   ],
   "source": [
    "expr_readcount_raw.shape"
   ]
  },
  {
   "cell_type": "code",
   "execution_count": 27,
   "metadata": {},
   "outputs": [],
   "source": [
    "if not Path('../../data/10x/expr_readcount_raw_csc.npz').is_file():\n",
    "    scipy.sparse.save_npz('../../data/10x/expr_readcount_raw_csc.npz', \n",
    "                          expr_readcount_raw, compressed=True)"
   ]
  },
  {
   "cell_type": "code",
   "execution_count": 28,
   "metadata": {},
   "outputs": [],
   "source": [
    "expr_readcount_raw_dimnames = robjects.r['readRDS']('../../data/10x/expr_readcount_raw_csc_dimnames.rds')"
   ]
  },
  {
   "cell_type": "code",
   "execution_count": 29,
   "metadata": {},
   "outputs": [],
   "source": [
    "expr_readcount_raw_dimnames = np.array([np.asarray(expr_readcount_raw_dimnames[0], dtype='U'),\n",
    "                                        np.asarray(expr_readcount_raw_dimnames[1], dtype='U')])"
   ]
  },
  {
   "cell_type": "code",
   "execution_count": 30,
   "metadata": {},
   "outputs": [],
   "source": [
    "if not Path('../../data/10x/expr_readcount_raw_csc_dimnames.npy').is_file():\n",
    "    np.save('../../data/10x/expr_readcount_raw_csc_dimnames.npy', \n",
    "            expr_readcount_raw_dimnames)"
   ]
  },
  {
   "cell_type": "code",
   "execution_count": null,
   "metadata": {},
   "outputs": [],
   "source": []
  },
  {
   "cell_type": "code",
   "execution_count": null,
   "metadata": {},
   "outputs": [],
   "source": []
  },
  {
   "cell_type": "code",
   "execution_count": null,
   "metadata": {},
   "outputs": [],
   "source": []
  },
  {
   "cell_type": "code",
   "execution_count": null,
   "metadata": {},
   "outputs": [],
   "source": []
  },
  {
   "cell_type": "code",
   "execution_count": null,
   "metadata": {},
   "outputs": [],
   "source": []
  }
 ],
 "metadata": {
  "kernelspec": {
   "display_name": "Python 3",
   "language": "python",
   "name": "python3"
  },
  "language_info": {
   "codemirror_mode": {
    "name": "ipython",
    "version": 3
   },
   "file_extension": ".py",
   "mimetype": "text/x-python",
   "name": "python",
   "nbconvert_exporter": "python",
   "pygments_lexer": "ipython3",
   "version": "3.7.0"
  }
 },
 "nbformat": 4,
 "nbformat_minor": 2
}
